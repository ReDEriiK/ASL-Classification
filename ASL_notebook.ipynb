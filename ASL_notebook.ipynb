{
  "nbformat": 4,
  "nbformat_minor": 0,
  "metadata": {
    "colab": {
      "provenance": []
    },
    "kernelspec": {
      "name": "python3",
      "display_name": "Python 3"
    },
    "language_info": {
      "name": "python"
    }
  },
  "cells": [
    {
      "cell_type": "markdown",
      "source": [
        "# **Import**"
      ],
      "metadata": {
        "id": "eff5LP53uYSE"
      }
    },
    {
      "cell_type": "code",
      "execution_count": null,
      "metadata": {
        "colab": {
          "base_uri": "https://localhost:8080/"
        },
        "id": "NilRvwEpodlg",
        "outputId": "c2d9ea84-8505-4291-99e8-53fd04b455bd"
      },
      "outputs": [
        {
          "output_type": "stream",
          "name": "stdout",
          "text": [
            "Mounted at /content/drive\n"
          ]
        }
      ],
      "source": [
        "from google.colab import drive\n",
        "drive.mount('/content/drive')"
      ]
    },
    {
      "cell_type": "code",
      "source": [
        "import numpy as np\n",
        "import pandas as pd\n",
        "import matplotlib.pyplot as plt\n",
        "\n",
        "import os\n",
        "import cv2 as cv\n",
        "from google.colab.patches import cv2_imshow\n",
        "\n",
        "\n",
        "\n",
        "from keras import layers, models\n",
        "from keras.layers import Conv2D, MaxPooling2D, Activation, Dense, Flatten, AveragePooling2D, BatchNormalization, Dropout, MaxPool2D\n",
        "from keras.utils import to_categorical\n",
        "from keras.models import Sequential\n",
        "from keras.callbacks import EarlyStopping\n",
        "from keras import regularizers\n",
        "from keras.callbacks import ModelCheckpoint"
      ],
      "metadata": {
        "id": "_PXU11PwoqW2"
      },
      "execution_count": null,
      "outputs": []
    },
    {
      "cell_type": "markdown",
      "source": [
        "# **Data augmentation**"
      ],
      "metadata": {
        "id": "_YFQ0gxDubyA"
      }
    },
    {
      "cell_type": "code",
      "source": [
        "from tensorflow.keras.preprocessing.image import ImageDataGenerator\n",
        "\n",
        "datagen = ImageDataGenerator( rescale=1./255, \n",
        "                              validation_split=0.2,\n",
        "                              rotation_range=20,\n",
        "                              width_shift_range=0.05,\n",
        "                              height_shift_range=0.05,\n",
        "                              horizontal_flip=True,\n",
        "                              brightness_range = (0.5,0.8))\n",
        "validation_gen = datagen.flow_from_directory(\"/content/drive/MyDrive/ASL/asl_alphabet_train/asl_alphabet_train/asl_alphabet_train\", target_size=(64, 64), batch_size=64, subset=\"validation\")\n",
        "train_gen = datagen.flow_from_directory(\"/content/drive/MyDrive/ASL/asl_alphabet_train/asl_alphabet_train/asl_alphabet_train\", target_size=(64, 64), batch_size=64, subset=\"training\")"
      ],
      "metadata": {
        "colab": {
          "base_uri": "https://localhost:8080/"
        },
        "id": "Q83ZVT3aoqby",
        "outputId": "57d7a1c3-bad7-4eef-e61d-568c5c70958b"
      },
      "execution_count": null,
      "outputs": [
        {
          "output_type": "stream",
          "name": "stdout",
          "text": [
            "Found 17396 images belonging to 29 classes.\n",
            "Found 69590 images belonging to 29 classes.\n"
          ]
        }
      ]
    },
    {
      "cell_type": "markdown",
      "source": [
        "# **Images**"
      ],
      "metadata": {
        "id": "DesymkTMMi7j"
      }
    },
    {
      "cell_type": "code",
      "source": [
        "for i in range(1,5):\n",
        "    img, label = train_gen.next()\n",
        "    plt.subplot(2,3,i)\n",
        "    plt.imshow(img[0])\n",
        "    plt.show()"
      ],
      "metadata": {
        "id": "OdfOlJRs7_XV"
      },
      "execution_count": null,
      "outputs": []
    },
    {
      "cell_type": "markdown",
      "source": [
        "# **CovNet**"
      ],
      "metadata": {
        "id": "2BuYn_cLMfgu"
      }
    },
    {
      "cell_type": "code",
      "source": [
        "model = Sequential()\n",
        "model.add(Conv2D(16, kernel_size = [3,3], padding = 'same', activation = 'relu', input_shape = (64,64,3)))\n",
        "model.add(Conv2D(32, kernel_size = [3,3], padding = 'same', activation = 'relu'))\n",
        "model.add(MaxPool2D(pool_size = [3,3]))\n",
        "    \n",
        "model.add(Conv2D(32, kernel_size = [3,3], padding = 'same', activation = 'relu'))\n",
        "model.add(Conv2D(64, kernel_size = [3,3], padding = 'same', activation = 'relu'))\n",
        "model.add(MaxPool2D(pool_size = [3,3]))\n",
        " \n",
        "model.add(Conv2D(128, kernel_size = [3,3], padding = 'same', activation = 'relu'))\n",
        "model.add(Conv2D(256, kernel_size = [3,3], padding = 'same', activation = 'relu'))\n",
        "model.add(MaxPool2D(pool_size = [3,3]))\n",
        "    \n",
        "model.add(BatchNormalization())\n",
        "    \n",
        "model.add(Flatten())\n",
        "model.add(Dropout(0.5))\n",
        "model.add(Dense(512, activation = 'relu', kernel_regularizer = regularizers.l2(0.001)))\n",
        "model.add(Dense(29, activation = 'softmax'))\n",
        "\n",
        "model.summary()"
      ],
      "metadata": {
        "id": "NevR8m8fEeED"
      },
      "execution_count": null,
      "outputs": []
    },
    {
      "cell_type": "markdown",
      "source": [
        "# **VGG16**"
      ],
      "metadata": {
        "id": "uKmmDfPNMoN7"
      }
    },
    {
      "cell_type": "code",
      "source": [
        "from keras.applications.vgg16 import VGG16\n",
        "model = Sequential()\n",
        "model.add(VGG16(weights=\"imagenet\",input_shape=(64,64,3),include_top=False))\n",
        "model.add(Flatten())\n",
        "model.add(Dense(256, activation='relu'))\n",
        "model.add(Dense(29,activation=\"softmax\"))\n",
        "\n",
        "model.summary()"
      ],
      "metadata": {
        "colab": {
          "base_uri": "https://localhost:8080/"
        },
        "id": "ODO4LZE6mGKz",
        "outputId": "725e90ab-3b00-4ee5-a6c8-d2bb05b79116"
      },
      "execution_count": null,
      "outputs": [
        {
          "output_type": "stream",
          "name": "stdout",
          "text": [
            "Downloading data from https://storage.googleapis.com/tensorflow/keras-applications/vgg16/vgg16_weights_tf_dim_ordering_tf_kernels_notop.h5\n",
            "58889256/58889256 [==============================] - 0s 0us/step\n",
            "Model: \"sequential\"\n",
            "_________________________________________________________________\n",
            " Layer (type)                Output Shape              Param #   \n",
            "=================================================================\n",
            " vgg16 (Functional)          (None, 2, 2, 512)         14714688  \n",
            "                                                                 \n",
            " flatten (Flatten)           (None, 2048)              0         \n",
            "                                                                 \n",
            " dense (Dense)               (None, 256)               524544    \n",
            "                                                                 \n",
            " dense_1 (Dense)             (None, 29)                7453      \n",
            "                                                                 \n",
            "=================================================================\n",
            "Total params: 15,246,685\n",
            "Trainable params: 15,246,685\n",
            "Non-trainable params: 0\n",
            "_________________________________________________________________\n"
          ]
        }
      ]
    },
    {
      "cell_type": "markdown",
      "source": [
        "# **Training**"
      ],
      "metadata": {
        "id": "KYdAftWNMsEs"
      }
    },
    {
      "cell_type": "code",
      "source": [
        "model.compile(optimizer='adam', loss='categorical_crossentropy', metrics=[\"accuracy\"])\n",
        "early_stop = EarlyStopping(monitor='val_loss',patience=2)"
      ],
      "metadata": {
        "id": "LIkL2juOonmo"
      },
      "execution_count": null,
      "outputs": []
    },
    {
      "cell_type": "code",
      "source": [
        "checkpoint_path = \"/content/drive/MyDrive/Modellek\"\n",
        "checkpoint_dir = os.path.dirname(checkpoint_path)\n",
        "\n",
        "# Create a callback that saves the model's weights\n",
        "cp_callback = ModelCheckpoint(filepath=checkpoint_path,\n",
        "                                                 save_weights_only=True,\n",
        "                                                 verbose=1)"
      ],
      "metadata": {
        "id": "UpgCZRIuGwXs"
      },
      "execution_count": null,
      "outputs": []
    },
    {
      "cell_type": "code",
      "source": [
        "model.load_weights(\"/content/drive/MyDrive/Modellek\")"
      ],
      "metadata": {
        "colab": {
          "base_uri": "https://localhost:8080/"
        },
        "id": "6OTVnfYmJDOs",
        "outputId": "b5a6d3a2-3cd8-4b18-efc3-12f0201e46fc"
      },
      "execution_count": null,
      "outputs": [
        {
          "output_type": "execute_result",
          "data": {
            "text/plain": [
              "<tensorflow.python.checkpoint.checkpoint.CheckpointLoadStatus at 0x7f063cd629b0>"
            ]
          },
          "metadata": {},
          "execution_count": 7
        }
      ]
    },
    {
      "cell_type": "code",
      "source": [
        "model.fit(train_gen, epochs=50, validation_data=validation_gen, callbacks=[cp_callback], validation_steps = 50, steps_per_epoch = 64)\n",
        "model.save(\"model.h5\")"
      ],
      "metadata": {
        "colab": {
          "base_uri": "https://localhost:8080/",
          "height": 1000
        },
        "id": "Vw44VqbKI8-A",
        "outputId": "17620151-eb1e-4c33-ebc1-7add54ac8419"
      },
      "execution_count": null,
      "outputs": [
        {
          "output_type": "stream",
          "name": "stdout",
          "text": [
            "Epoch 1/50\n",
            "64/64 [==============================] - ETA: 0s - loss: 0.2679 - accuracy: 0.9053 \n",
            "Epoch 1: saving model to /content/drive/MyDrive/Modellek\n",
            "64/64 [==============================] - 1897s 29s/step - loss: 0.2679 - accuracy: 0.9053 - val_loss: 0.5699 - val_accuracy: 0.8353\n",
            "Epoch 2/50\n",
            "64/64 [==============================] - ETA: 0s - loss: 0.2748 - accuracy: 0.9041 \n",
            "Epoch 2: saving model to /content/drive/MyDrive/Modellek\n",
            "64/64 [==============================] - 1675s 26s/step - loss: 0.2748 - accuracy: 0.9041 - val_loss: 0.6293 - val_accuracy: 0.8191\n",
            "Epoch 3/50\n",
            "64/64 [==============================] - ETA: 0s - loss: 0.2847 - accuracy: 0.9058 \n",
            "Epoch 3: saving model to /content/drive/MyDrive/Modellek\n",
            "64/64 [==============================] - 1494s 23s/step - loss: 0.2847 - accuracy: 0.9058 - val_loss: 0.5692 - val_accuracy: 0.8325\n",
            "Epoch 4/50\n",
            "64/64 [==============================] - ETA: 0s - loss: 0.2347 - accuracy: 0.9199 \n",
            "Epoch 4: saving model to /content/drive/MyDrive/Modellek\n",
            "64/64 [==============================] - 1308s 20s/step - loss: 0.2347 - accuracy: 0.9199 - val_loss: 0.6875 - val_accuracy: 0.8041\n",
            "Epoch 5/50\n",
            "64/64 [==============================] - ETA: 0s - loss: 0.2251 - accuracy: 0.9248 \n",
            "Epoch 5: saving model to /content/drive/MyDrive/Modellek\n",
            "64/64 [==============================] - 1217s 19s/step - loss: 0.2251 - accuracy: 0.9248 - val_loss: 0.7443 - val_accuracy: 0.8056\n",
            "Epoch 6/50\n",
            "64/64 [==============================] - ETA: 0s - loss: 0.2162 - accuracy: 0.9202 \n",
            "Epoch 6: saving model to /content/drive/MyDrive/Modellek\n",
            "64/64 [==============================] - 1054s 16s/step - loss: 0.2162 - accuracy: 0.9202 - val_loss: 0.5557 - val_accuracy: 0.8450\n",
            "Epoch 7/50\n",
            "64/64 [==============================] - ETA: 0s - loss: 0.2207 - accuracy: 0.9282 \n",
            "Epoch 7: saving model to /content/drive/MyDrive/Modellek\n",
            "64/64 [==============================] - 990s 15s/step - loss: 0.2207 - accuracy: 0.9282 - val_loss: 0.5460 - val_accuracy: 0.8572\n",
            "Epoch 8/50\n",
            "64/64 [==============================] - ETA: 0s - loss: 0.2145 - accuracy: 0.9294 \n",
            "Epoch 8: saving model to /content/drive/MyDrive/Modellek\n",
            "64/64 [==============================] - 888s 14s/step - loss: 0.2145 - accuracy: 0.9294 - val_loss: 0.7037 - val_accuracy: 0.7984\n",
            "Epoch 9/50\n",
            "64/64 [==============================] - ETA: 0s - loss: 0.1922 - accuracy: 0.9353 \n",
            "Epoch 9: saving model to /content/drive/MyDrive/Modellek\n",
            "64/64 [==============================] - 862s 13s/step - loss: 0.1922 - accuracy: 0.9353 - val_loss: 0.6082 - val_accuracy: 0.8269\n",
            "Epoch 10/50\n",
            "64/64 [==============================] - ETA: 0s - loss: 0.2049 - accuracy: 0.9270\n",
            "Epoch 10: saving model to /content/drive/MyDrive/Modellek\n",
            "64/64 [==============================] - 774s 12s/step - loss: 0.2049 - accuracy: 0.9270 - val_loss: 0.5935 - val_accuracy: 0.8253\n",
            "Epoch 11/50\n",
            "64/64 [==============================] - ETA: 0s - loss: 0.1657 - accuracy: 0.9434\n",
            "Epoch 11: saving model to /content/drive/MyDrive/Modellek\n",
            "64/64 [==============================] - 728s 11s/step - loss: 0.1657 - accuracy: 0.9434 - val_loss: 0.4690 - val_accuracy: 0.8716\n",
            "Epoch 12/50\n",
            "64/64 [==============================] - ETA: 0s - loss: 0.2499 - accuracy: 0.9192\n",
            "Epoch 12: saving model to /content/drive/MyDrive/Modellek\n",
            "64/64 [==============================] - 717s 11s/step - loss: 0.2499 - accuracy: 0.9192 - val_loss: 0.6574 - val_accuracy: 0.8153\n",
            "Epoch 13/50\n",
            "64/64 [==============================] - ETA: 0s - loss: 0.1697 - accuracy: 0.9409\n",
            "Epoch 13: saving model to /content/drive/MyDrive/Modellek\n",
            "64/64 [==============================] - 703s 11s/step - loss: 0.1697 - accuracy: 0.9409 - val_loss: 0.4575 - val_accuracy: 0.8656\n"
          ]
        },
        {
          "output_type": "error",
          "ename": "KeyboardInterrupt",
          "evalue": "ignored",
          "traceback": [
            "\u001b[0;31m---------------------------------------------------------------------------\u001b[0m",
            "\u001b[0;31mKeyboardInterrupt\u001b[0m                         Traceback (most recent call last)",
            "\u001b[0;32m<ipython-input-8-1e6d3cd9dba7>\u001b[0m in \u001b[0;36m<cell line: 1>\u001b[0;34m()\u001b[0m\n\u001b[0;32m----> 1\u001b[0;31m \u001b[0mmodel\u001b[0m\u001b[0;34m.\u001b[0m\u001b[0mfit\u001b[0m\u001b[0;34m(\u001b[0m\u001b[0mtrain_gen\u001b[0m\u001b[0;34m,\u001b[0m \u001b[0mepochs\u001b[0m\u001b[0;34m=\u001b[0m\u001b[0;36m50\u001b[0m\u001b[0;34m,\u001b[0m \u001b[0mvalidation_data\u001b[0m\u001b[0;34m=\u001b[0m\u001b[0mvalidation_gen\u001b[0m\u001b[0;34m,\u001b[0m \u001b[0mcallbacks\u001b[0m\u001b[0;34m=\u001b[0m\u001b[0;34m[\u001b[0m\u001b[0mcp_callback\u001b[0m\u001b[0;34m]\u001b[0m\u001b[0;34m,\u001b[0m \u001b[0mvalidation_steps\u001b[0m \u001b[0;34m=\u001b[0m \u001b[0;36m50\u001b[0m\u001b[0;34m,\u001b[0m \u001b[0msteps_per_epoch\u001b[0m \u001b[0;34m=\u001b[0m \u001b[0;36m64\u001b[0m\u001b[0;34m)\u001b[0m\u001b[0;34m\u001b[0m\u001b[0;34m\u001b[0m\u001b[0m\n\u001b[0m\u001b[1;32m      2\u001b[0m \u001b[0mmodel\u001b[0m\u001b[0;34m.\u001b[0m\u001b[0msave\u001b[0m\u001b[0;34m(\u001b[0m\u001b[0;34m\"model.h5\"\u001b[0m\u001b[0;34m)\u001b[0m\u001b[0;34m\u001b[0m\u001b[0;34m\u001b[0m\u001b[0m\n",
            "\u001b[0;32m/usr/local/lib/python3.10/dist-packages/keras/utils/traceback_utils.py\u001b[0m in \u001b[0;36merror_handler\u001b[0;34m(*args, **kwargs)\u001b[0m\n\u001b[1;32m     63\u001b[0m         \u001b[0mfiltered_tb\u001b[0m \u001b[0;34m=\u001b[0m \u001b[0;32mNone\u001b[0m\u001b[0;34m\u001b[0m\u001b[0;34m\u001b[0m\u001b[0m\n\u001b[1;32m     64\u001b[0m         \u001b[0;32mtry\u001b[0m\u001b[0;34m:\u001b[0m\u001b[0;34m\u001b[0m\u001b[0;34m\u001b[0m\u001b[0m\n\u001b[0;32m---> 65\u001b[0;31m             \u001b[0;32mreturn\u001b[0m \u001b[0mfn\u001b[0m\u001b[0;34m(\u001b[0m\u001b[0;34m*\u001b[0m\u001b[0margs\u001b[0m\u001b[0;34m,\u001b[0m \u001b[0;34m**\u001b[0m\u001b[0mkwargs\u001b[0m\u001b[0;34m)\u001b[0m\u001b[0;34m\u001b[0m\u001b[0;34m\u001b[0m\u001b[0m\n\u001b[0m\u001b[1;32m     66\u001b[0m         \u001b[0;32mexcept\u001b[0m \u001b[0mException\u001b[0m \u001b[0;32mas\u001b[0m \u001b[0me\u001b[0m\u001b[0;34m:\u001b[0m\u001b[0;34m\u001b[0m\u001b[0;34m\u001b[0m\u001b[0m\n\u001b[1;32m     67\u001b[0m             \u001b[0mfiltered_tb\u001b[0m \u001b[0;34m=\u001b[0m \u001b[0m_process_traceback_frames\u001b[0m\u001b[0;34m(\u001b[0m\u001b[0me\u001b[0m\u001b[0;34m.\u001b[0m\u001b[0m__traceback__\u001b[0m\u001b[0;34m)\u001b[0m\u001b[0;34m\u001b[0m\u001b[0;34m\u001b[0m\u001b[0m\n",
            "\u001b[0;32m/usr/local/lib/python3.10/dist-packages/keras/engine/training.py\u001b[0m in \u001b[0;36mfit\u001b[0;34m(self, x, y, batch_size, epochs, verbose, callbacks, validation_split, validation_data, shuffle, class_weight, sample_weight, initial_epoch, steps_per_epoch, validation_steps, validation_batch_size, validation_freq, max_queue_size, workers, use_multiprocessing)\u001b[0m\n\u001b[1;32m   1671\u001b[0m             \u001b[0mlogs\u001b[0m \u001b[0;34m=\u001b[0m \u001b[0;32mNone\u001b[0m\u001b[0;34m\u001b[0m\u001b[0;34m\u001b[0m\u001b[0m\n\u001b[1;32m   1672\u001b[0m             \u001b[0;32mfor\u001b[0m \u001b[0mepoch\u001b[0m\u001b[0;34m,\u001b[0m \u001b[0miterator\u001b[0m \u001b[0;32min\u001b[0m \u001b[0mdata_handler\u001b[0m\u001b[0;34m.\u001b[0m\u001b[0menumerate_epochs\u001b[0m\u001b[0;34m(\u001b[0m\u001b[0;34m)\u001b[0m\u001b[0;34m:\u001b[0m\u001b[0;34m\u001b[0m\u001b[0;34m\u001b[0m\u001b[0m\n\u001b[0;32m-> 1673\u001b[0;31m                 \u001b[0mself\u001b[0m\u001b[0;34m.\u001b[0m\u001b[0mreset_metrics\u001b[0m\u001b[0;34m(\u001b[0m\u001b[0;34m)\u001b[0m\u001b[0;34m\u001b[0m\u001b[0;34m\u001b[0m\u001b[0m\n\u001b[0m\u001b[1;32m   1674\u001b[0m                 \u001b[0mcallbacks\u001b[0m\u001b[0;34m.\u001b[0m\u001b[0mon_epoch_begin\u001b[0m\u001b[0;34m(\u001b[0m\u001b[0mepoch\u001b[0m\u001b[0;34m)\u001b[0m\u001b[0;34m\u001b[0m\u001b[0;34m\u001b[0m\u001b[0m\n\u001b[1;32m   1675\u001b[0m                 \u001b[0;32mwith\u001b[0m \u001b[0mdata_handler\u001b[0m\u001b[0;34m.\u001b[0m\u001b[0mcatch_stop_iteration\u001b[0m\u001b[0;34m(\u001b[0m\u001b[0;34m)\u001b[0m\u001b[0;34m:\u001b[0m\u001b[0;34m\u001b[0m\u001b[0;34m\u001b[0m\u001b[0m\n",
            "\u001b[0;32m/usr/local/lib/python3.10/dist-packages/keras/engine/training.py\u001b[0m in \u001b[0;36mreset_metrics\u001b[0;34m(self)\u001b[0m\n\u001b[1;32m   2426\u001b[0m         \u001b[0;32mreturn\u001b[0m \u001b[0mtf_utils\u001b[0m\u001b[0;34m.\u001b[0m\u001b[0msync_to_numpy_or_python_type\u001b[0m\u001b[0;34m(\u001b[0m\u001b[0mall_outputs\u001b[0m\u001b[0;34m)\u001b[0m\u001b[0;34m\u001b[0m\u001b[0;34m\u001b[0m\u001b[0m\n\u001b[1;32m   2427\u001b[0m \u001b[0;34m\u001b[0m\u001b[0m\n\u001b[0;32m-> 2428\u001b[0;31m     \u001b[0;32mdef\u001b[0m \u001b[0mreset_metrics\u001b[0m\u001b[0;34m(\u001b[0m\u001b[0mself\u001b[0m\u001b[0;34m)\u001b[0m\u001b[0;34m:\u001b[0m\u001b[0;34m\u001b[0m\u001b[0;34m\u001b[0m\u001b[0m\n\u001b[0m\u001b[1;32m   2429\u001b[0m         \"\"\"Resets the state of all the metrics in the model.\n\u001b[1;32m   2430\u001b[0m \u001b[0;34m\u001b[0m\u001b[0m\n",
            "\u001b[0;31mKeyboardInterrupt\u001b[0m: "
          ]
        }
      ]
    },
    {
      "cell_type": "markdown",
      "source": [
        "# **Testing**"
      ],
      "metadata": {
        "id": "jTaOq-JOMwKl"
      }
    },
    {
      "cell_type": "code",
      "source": [
        "datagen = ImageDataGenerator( rescale=1./255, \n",
        "                              validation_split=0.01,\n",
        "                              rotation_range=20,\n",
        "                              width_shift_range=0.05,\n",
        "                              height_shift_range=0.05,\n",
        "                              horizontal_flip=True,\n",
        "                              brightness_range = (0.5,0.8))\n",
        "test_gen = datagen.flow_from_directory(\"/content/drive/MyDrive/ASL/asl_alphabet_train/asl_alphabet_train/asl_alphabet_train\", target_size=(64, 64), batch_size=16, subset=\"validation\")"
      ],
      "metadata": {
        "colab": {
          "base_uri": "https://localhost:8080/"
        },
        "id": "29rH_1jedaYq",
        "outputId": "19b069ea-4f17-49eb-cebe-a000edab1996"
      },
      "execution_count": null,
      "outputs": [
        {
          "output_type": "stream",
          "name": "stdout",
          "text": [
            "Found 866 images belonging to 29 classes.\n"
          ]
        }
      ]
    },
    {
      "cell_type": "code",
      "source": [
        "loss, acc = model.evaluate(test_gen)\n",
        "print(\"Loss: \", loss)\n",
        "print(\"Accuracy: \", acc)"
      ],
      "metadata": {
        "colab": {
          "base_uri": "https://localhost:8080/"
        },
        "id": "qrc3oZSWiEQ9",
        "outputId": "01475fde-a62a-4026-e7ad-4bdfe95a25a9"
      },
      "execution_count": null,
      "outputs": [
        {
          "output_type": "stream",
          "name": "stdout",
          "text": [
            "55/55 [==============================] - 33s 591ms/step - loss: 0.1664 - accuracy: 0.9434\n",
            "Loss:  0.16639593243598938\n",
            "Accuracy:  0.943418025970459\n"
          ]
        }
      ]
    },
    {
      "cell_type": "code",
      "source": [
        "predictions = model.predict(test_gen)"
      ],
      "metadata": {
        "id": "_wZZX8rZMwrx",
        "colab": {
          "base_uri": "https://localhost:8080/"
        },
        "outputId": "11a60e4a-042a-4ec0-e62e-16a6f14c8b5e"
      },
      "execution_count": null,
      "outputs": [
        {
          "output_type": "stream",
          "name": "stdout",
          "text": [
            "55/55 [==============================] - 29s 524ms/step\n"
          ]
        }
      ]
    },
    {
      "cell_type": "code",
      "source": [
        "from sklearn import metrics\n",
        "import seaborn as sns\n",
        "from sklearn.metrics import confusion_matrix\n",
        "\n",
        "plt.figure(figsize=(7,7))\n",
        "sns.heatmap(confusion_matrix(test_gen.classes, predictions.argmax(axis=1)))\n",
        "plt.show()"
      ],
      "metadata": {
        "colab": {
          "base_uri": "https://localhost:8080/",
          "height": 608
        },
        "id": "919V_HOmjGho",
        "outputId": "d7f27f20-74a4-4fb8-fe33-384e32b3c9c8"
      },
      "execution_count": null,
      "outputs": [
        {
          "output_type": "display_data",
          "data": {
            "text/plain": [
              "<Figure size 700x700 with 2 Axes>"
            ],
            "image/png": "[encoded data removed]"
          },
          "metadata": {}
        }
      ]
    },
    {
      "cell_type": "code",
      "source": [
        "import tensorflow as tf\n",
        "converter = tf.lite.TFLiteConverter.from_keras_model(model)\n",
        "tflite_model = converter.convert()\n",
        "with open('model.tflite', 'wb') as f:\n",
        "  f.write(tflite_model)"
      ],
      "metadata": {
        "id": "XxDRMddAGN2b",
        "outputId": "38317eac-1ec9-49f0-80a2-ee3b314b9330",
        "colab": {
          "base_uri": "https://localhost:8080/"
        }
      },
      "execution_count": null,
      "outputs": [
        {
          "output_type": "stream",
          "name": "stderr",
          "text": [
            "WARNING:absl:Found untraced functions such as _update_step_xla, _jit_compiled_convolution_op, _jit_compiled_convolution_op, _jit_compiled_convolution_op, _jit_compiled_convolution_op while saving (showing 5 of 14). These functions will not be directly callable after loading.\n"
          ]
        }
      ]
    }
  ]
}